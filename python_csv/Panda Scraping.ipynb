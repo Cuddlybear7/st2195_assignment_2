{
 "cells": [
  {
   "cell_type": "code",
   "execution_count": 3,
   "id": "5c2a0294",
   "metadata": {},
   "outputs": [
    {
     "name": "stdout",
     "output_type": "stream",
     "text": [
      "2\n"
     ]
    }
   ],
   "source": [
    "import pandas as pd\n",
    "#import requests\n",
    "\n",
    "url = \"https://en.wikipedia.org/wiki/Comma-separated_values\"\n",
    "\n",
    "dfs = pd.read_html(url)\n",
    "\n",
    "print(len(dfs))"
   ]
  },
  {
   "cell_type": "code",
   "execution_count": 5,
   "id": "c9576f42",
   "metadata": {},
   "outputs": [
    {
     "name": "stdout",
     "output_type": "stream",
     "text": [
      "   Year   Make                                   Model  \\\n",
      "0  1997   Ford                                    E350   \n",
      "1  1999  Chevy              Venture \"Extended Edition\"   \n",
      "2  1999  Chevy  Venture \"Extended Edition, Very Large\"   \n",
      "3  1996   Jeep                          Grand Cherokee   \n",
      "\n",
      "                        Description   Price  \n",
      "0                     ac, abs, moon  3000.0  \n",
      "1                               NaN  4900.0  \n",
      "2                               NaN  5000.0  \n",
      "3  MUST SELL!air, moon roof, loaded  4799.0  \n"
     ]
    }
   ],
   "source": [
    "print(dfs[1])"
   ]
  },
  {
   "cell_type": "code",
   "execution_count": 6,
   "id": "76daca1b",
   "metadata": {},
   "outputs": [
    {
     "name": "stdout",
     "output_type": "stream",
     "text": [
      "   Year   Make                                   Model  \\\n",
      "0  1997   Ford                                    E350   \n",
      "1  1999  Chevy              Venture \"Extended Edition\"   \n",
      "2  1999  Chevy  Venture \"Extended Edition, Very Large\"   \n",
      "3  1996   Jeep                          Grand Cherokee   \n",
      "\n",
      "                        Description   Price  \n",
      "0                     ac, abs, moon  3000.0  \n",
      "1                               NaN  4900.0  \n",
      "2                               NaN  5000.0  \n",
      "3  MUST SELL!air, moon roof, loaded  4799.0  \n"
     ]
    }
   ],
   "source": [
    "# Get first table                                                                                                           \n",
    "df = dfs[1]\n",
    "\n",
    "# Extract columns                                                                                                           \n",
    "df2 = df[['Year','Make','Model','Description','Price']]\n",
    "print(df2)"
   ]
  },
  {
   "cell_type": "code",
   "execution_count": 7,
   "id": "02188f1d",
   "metadata": {},
   "outputs": [],
   "source": [
    "# Save table to csv\n",
    "df2.to_csv('panda scraping.csv')"
   ]
  },
  {
   "cell_type": "code",
   "execution_count": null,
   "id": "11b4ad01",
   "metadata": {},
   "outputs": [],
   "source": []
  }
 ],
 "metadata": {
  "kernelspec": {
   "display_name": "Python 3",
   "language": "python",
   "name": "python3"
  },
  "language_info": {
   "codemirror_mode": {
    "name": "ipython",
    "version": 3
   },
   "file_extension": ".py",
   "mimetype": "text/x-python",
   "name": "python",
   "nbconvert_exporter": "python",
   "pygments_lexer": "ipython3",
   "version": "3.8.8"
  }
 },
 "nbformat": 4,
 "nbformat_minor": 5
}
